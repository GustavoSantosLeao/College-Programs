{
  "nbformat": 4,
  "nbformat_minor": 0,
  "metadata": {
    "colab": {
      "provenance": [],
      "include_colab_link": true
    },
    "kernelspec": {
      "name": "python3",
      "display_name": "Python 3"
    },
    "language_info": {
      "name": "python"
    }
  },
  "cells": [
    {
      "cell_type": "markdown",
      "metadata": {
        "id": "view-in-github",
        "colab_type": "text"
      },
      "source": [
        "<a href=\"https://colab.research.google.com/github/GustavoSantosLeao/College-Programs/blob/main/Gato_de_Arnold_FINAL.ipynb\" target=\"_parent\"><img src=\"https://colab.research.google.com/assets/colab-badge.svg\" alt=\"Open In Colab\"/></a>"
      ]
    },
    {
      "cell_type": "code",
      "source": [
        "from numpy import asarray\n",
        "from PIL import Image\n",
        "from numpy import *\n",
        "import numpy as np\n",
        "import glob\n",
        "import contextlib\n",
        "import matplotlib.pyplot as plt\n",
        "\n",
        "# Entrada da Imagem\n",
        "imagem = input(\"Digite o nome do arquivo:\\n\")\n",
        "image = Image.open(\"%s\" %imagem)\n",
        "im = asarray(Image.open(\"%s\" %imagem))\n",
        "imoriginal = Image.fromarray(im)  #salvamos a imagem original\n",
        "h = im.shape[0] #Dimensão da altura\n",
        "w = im.shape[1] #Dimensão da largura\n",
        "\n",
        "if w!=h:\n",
        "  size = max(image.size)\n",
        "  image = image.resize((size, size))\n",
        "  w, h = image.size\n",
        "\n",
        "im = asarray(image)\n",
        "imoriginal = Image.fromarray(im)\n",
        "# Criamos valoresd de x e y, que vão mapear os pixels da imagem\n",
        "x,y = meshgrid(range(w),range(h))\n",
        "#xmap,ymap são a aplicação da transformação do gato de Arnold\n",
        "#na qual, M(x, y) −→ T(x + y, x + 2y) mod h para pegar o resto pela dimensão da altura\n",
        "# e mod w para pegar o resto pela dimensão da largura\n",
        "xmap = (x+y) % w\n",
        "ymap = (x+2*y) % h\n",
        "i=1\n",
        "\n",
        "print(\"O que deseja fazer?\\n\")\n",
        "res = int(input(\"1 - Fazer um GIF da imagem passando pela transformação do Gato de Arnold.\\n2 - Descriptografar uma imagem.\\n3 - Criptografar uma imagem.\\n\"))\n",
        "if res == 1:\n",
        "  while(1):\n",
        "\n",
        "    result = Image.fromarray(im)\n",
        "    result.save(\"cat_%04d.png\" % i)\n",
        "    #condição de parada, quando o mapa de pixel se torna igual a imagem inicial\n",
        "    if (result == imoriginal) & (i!=1):\n",
        "        print(\"Rodou com %d iterações\" % i);\n",
        "        break;\n",
        "    im = im[xmap,ymap]\n",
        "    i=i+1\n",
        "\n",
        "  # filepaths\n",
        "  fp_in = \"cat_*.png\"\n",
        "  fp_out = \"a.gif\"\n",
        "\n",
        "  # use exit stack to automatically close opened images\n",
        "  with contextlib.ExitStack() as stack:\n",
        "\n",
        "      # lazily load images\n",
        "      imgs = (stack.enter_context(Image.open(f))\n",
        "              for f in sorted(glob.glob(fp_in)))\n",
        "\n",
        "      # extract  first image from iterator\n",
        "      img = next(imgs)\n",
        "\n",
        "      # https://pillow.readthedocs.io/en/stable/handbook/image-file-formats.html#gif\n",
        "      img.save(fp=fp_out, format='GIF', append_images=imgs,\n",
        "              save_all=True, duration=150, loop=0)\n",
        "\n",
        "\n",
        "elif res == 2:\n",
        "  p = int(input(\"Digite a iteração que a imagem está:\\n\"))\n",
        "  while(1):\n",
        "\n",
        "    result = Image.fromarray(im)\n",
        "    #condição de parada, quando o mapa de pixel se torna igual a imagem inicial\n",
        "    if (result == imoriginal) & (i!=1):\n",
        "        print(\"%d\" %i)\n",
        "        break;\n",
        "    im = im[xmap,ymap]\n",
        "    i=i+1\n",
        "  im = asarray(Image.open(\"%s\" %imagem))\n",
        "  for j in range(i-p+1):\n",
        "      result = Image.fromarray(im)\n",
        "      if (j == i-p-1):\n",
        "      #Subtraímos por 1, pois ele começara a contagem a partir da iteração da frente, logo subtraímos 1 para tirar essa diferenç\n",
        "          result.save(\"descriptografado.png\")\n",
        "          print(\"Descriptografia concluída!\")\n",
        "          break;\n",
        "      im = im[xmap,ymap]\n",
        "\n",
        "elif res == 3:\n",
        "  c = int(input(\"Criptografar até qual periodo?\\n\"))\n",
        "  for i in range(c+1):\n",
        "\n",
        "    result = Image.fromarray(im)\n",
        "    fin = result.resize(image.size)\n",
        "    if (i  == c):\n",
        "        fin.save(\"criptografado.png\")\n",
        "        print(\"Criptografia concluída!\")\n",
        "        break;\n",
        "    im = im[xmap,ymap]\n",
        "    i=i+1\n",
        "fin_g = fin.convert(\"L\")\n",
        "histogram = np.array(fin_g.histogram())\n",
        "\n",
        "# Plot do Histograma\n",
        "plt.figure(figsize=(10, 5))\n",
        "plt.bar(range(len(histogram)), histogram)\n",
        "plt.xlabel(\"Pixel Value\")\n",
        "plt.ylabel(\"Frequency\")\n",
        "plt.title(\"Histograma do Gato de Arnold\")\n",
        "plt.show()"
      ],
      "metadata": {
        "id": "CxbUimPAP52g",
        "colab": {
          "base_uri": "https://localhost:8080/",
          "height": 393
        },
        "outputId": "caa5953c-ae6e-4a44-e1e1-dd02a632f0f7"
      },
      "execution_count": null,
      "outputs": [
        {
          "output_type": "stream",
          "name": "stdout",
          "text": [
            "Digite o nome do arquivo:\n",
            "a.png\n",
            "O que deseja fazer?\n",
            "\n",
            "1 - Fazer um GIF da imagem passando pela transformação do Gato de Arnold.\n",
            "2 - Descriptografar uma imagem.\n",
            "3 - Criptografar uma imagem.\n",
            "1\n",
            "Rodou com 49 iterações\n"
          ]
        },
        {
          "output_type": "error",
          "ename": "NameError",
          "evalue": "ignored",
          "traceback": [
            "\u001b[0;31m---------------------------------------------------------------------------\u001b[0m",
            "\u001b[0;31mNameError\u001b[0m                                 Traceback (most recent call last)",
            "\u001b[0;32m<ipython-input-1-4617d843effa>\u001b[0m in \u001b[0;36m<cell line: 99>\u001b[0;34m()\u001b[0m\n\u001b[1;32m     97\u001b[0m     \u001b[0mim\u001b[0m \u001b[0;34m=\u001b[0m \u001b[0mim\u001b[0m\u001b[0;34m[\u001b[0m\u001b[0mxmap\u001b[0m\u001b[0;34m,\u001b[0m\u001b[0mymap\u001b[0m\u001b[0;34m]\u001b[0m\u001b[0;34m\u001b[0m\u001b[0;34m\u001b[0m\u001b[0m\n\u001b[1;32m     98\u001b[0m     \u001b[0mi\u001b[0m\u001b[0;34m=\u001b[0m\u001b[0mi\u001b[0m\u001b[0;34m+\u001b[0m\u001b[0;36m1\u001b[0m\u001b[0;34m\u001b[0m\u001b[0;34m\u001b[0m\u001b[0m\n\u001b[0;32m---> 99\u001b[0;31m \u001b[0mfin_g\u001b[0m \u001b[0;34m=\u001b[0m \u001b[0mfin\u001b[0m\u001b[0;34m.\u001b[0m\u001b[0mconvert\u001b[0m\u001b[0;34m(\u001b[0m\u001b[0;34m\"L\"\u001b[0m\u001b[0;34m)\u001b[0m\u001b[0;34m\u001b[0m\u001b[0;34m\u001b[0m\u001b[0m\n\u001b[0m\u001b[1;32m    100\u001b[0m \u001b[0mhistogram\u001b[0m \u001b[0;34m=\u001b[0m \u001b[0mnp\u001b[0m\u001b[0;34m.\u001b[0m\u001b[0marray\u001b[0m\u001b[0;34m(\u001b[0m\u001b[0mfin_g\u001b[0m\u001b[0;34m.\u001b[0m\u001b[0mhistogram\u001b[0m\u001b[0;34m(\u001b[0m\u001b[0;34m)\u001b[0m\u001b[0;34m)\u001b[0m\u001b[0;34m\u001b[0m\u001b[0;34m\u001b[0m\u001b[0m\n\u001b[1;32m    101\u001b[0m \u001b[0;34m\u001b[0m\u001b[0m\n",
            "\u001b[0;31mNameError\u001b[0m: name 'fin' is not defined"
          ]
        }
      ]
    },
    {
      "cell_type": "code",
      "source": [
        "import glob\n",
        "import contextlib\n",
        "from PIL import Image\n",
        "\n",
        "# filepaths\n",
        "fp_in = \"cat_*.png\"\n",
        "fp_out = \"a.gif\"\n",
        "\n",
        "# use exit stack to automatically close opened images\n",
        "with contextlib.ExitStack() as stack:\n",
        "\n",
        "    # lazily load images\n",
        "    imgs = (stack.enter_context(Image.open(f))\n",
        "            for f in sorted(glob.glob(fp_in)))\n",
        "\n",
        "    # extract  first image from iterator\n",
        "    img = next(imgs)\n",
        "\n",
        "    # https://pillow.readthedocs.io/en/stable/handbook/image-file-formats.html#gif\n",
        "    img.save(fp=fp_out, format='GIF', append_images=imgs,\n",
        "             save_all=True, duration=150, loop=0)\n"
      ],
      "metadata": {
        "id": "H7fcd1ZvEi1c",
        "colab": {
          "base_uri": "https://localhost:8080/",
          "height": 254
        },
        "outputId": "0957b106-42e0-4bf9-cee6-2900d732bc32"
      },
      "execution_count": null,
      "outputs": [
        {
          "output_type": "error",
          "ename": "StopIteration",
          "evalue": "ignored",
          "traceback": [
            "\u001b[0;31m---------------------------------------------------------------------------\u001b[0m",
            "\u001b[0;31mStopIteration\u001b[0m                             Traceback (most recent call last)",
            "\u001b[0;32m<ipython-input-2-588b4d45f179>\u001b[0m in \u001b[0;36m<cell line: 10>\u001b[0;34m()\u001b[0m\n\u001b[1;32m     15\u001b[0m \u001b[0;34m\u001b[0m\u001b[0m\n\u001b[1;32m     16\u001b[0m     \u001b[0;31m# extract  first image from iterator\u001b[0m\u001b[0;34m\u001b[0m\u001b[0;34m\u001b[0m\u001b[0m\n\u001b[0;32m---> 17\u001b[0;31m     \u001b[0mimg\u001b[0m \u001b[0;34m=\u001b[0m \u001b[0mnext\u001b[0m\u001b[0;34m(\u001b[0m\u001b[0mimgs\u001b[0m\u001b[0;34m)\u001b[0m\u001b[0;34m\u001b[0m\u001b[0;34m\u001b[0m\u001b[0m\n\u001b[0m\u001b[1;32m     18\u001b[0m \u001b[0;34m\u001b[0m\u001b[0m\n\u001b[1;32m     19\u001b[0m     \u001b[0;31m# https://pillow.readthedocs.io/en/stable/handbook/image-file-formats.html#gif\u001b[0m\u001b[0;34m\u001b[0m\u001b[0;34m\u001b[0m\u001b[0m\n",
            "\u001b[0;31mStopIteration\u001b[0m: "
          ]
        }
      ]
    },
    {
      "cell_type": "code",
      "source": [
        "im[xmap]"
      ],
      "metadata": {
        "id": "-ruJun22d4W1"
      },
      "execution_count": null,
      "outputs": []
    }
  ]
}